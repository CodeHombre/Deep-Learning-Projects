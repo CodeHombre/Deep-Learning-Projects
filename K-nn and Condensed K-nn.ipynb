{
 "cells": [
  {
   "cell_type": "code",
   "execution_count": 302,
   "id": "fa71a8dc",
   "metadata": {},
   "outputs": [],
   "source": [
    "import numpy as np\n",
    "import pandas as pd"
   ]
  },
  {
   "cell_type": "code",
   "execution_count": 303,
   "id": "852bea31",
   "metadata": {},
   "outputs": [],
   "source": [
    "# loading the dataset\n",
    "data = pd.read_csv('./sobar-72.csv')\n",
    "\n",
    "# shuffling the dataset\n",
    "from sklearn.utils import shuffle\n",
    "data = shuffle(data)\n",
    "\n",
    "# normalising the data\n",
    "data_y = data.pop('ca_cervix')\n",
    "data = (data - data.mean())/data.std()\n",
    "data['ca_cervix'] = data_y\n",
    "\n",
    "data = data.to_numpy()\n",
    "\n",
    "# splitting the dataset into train and test set\n",
    "m = len(data)\n",
    "n = 15\n",
    "train_set = data[:m-n]\n",
    "test_set = data[m-n:m]"
   ]
  },
  {
   "cell_type": "code",
   "execution_count": 304,
   "id": "ccb804c4",
   "metadata": {},
   "outputs": [],
   "source": [
    "# function to calculate dist between two feature vectors\n",
    "def get_dist(x,y):\n",
    "    dist = np.sqrt(np.sum(np.square(x[:-1] - y[:-1])))\n",
    "    return dist"
   ]
  },
  {
   "cell_type": "markdown",
   "id": "b10a7e4c",
   "metadata": {},
   "source": [
    "<h2>Implementing Standard KNN from Scratch</h2>"
   ]
  },
  {
   "cell_type": "code",
   "execution_count": 305,
   "id": "d1674d9a",
   "metadata": {},
   "outputs": [],
   "source": [
    "# standard knn \n",
    "def knn(x, train_set, k):\n",
    "    dists = []\n",
    "    for t in train_set:\n",
    "        d = get_dist(x, t)\n",
    "        dists.append((t, d))\n",
    "    dists.sort(key=lambda tuple: tuple[1])\n",
    "    nearest_neighbours = dists[:k]\n",
    "    nn_class = []\n",
    "    for n in nearest_neighbours:\n",
    "        nn_class.append(n[0][-1])\n",
    "    return max(set(nn_class), key = nn_class.count)"
   ]
  },
  {
   "cell_type": "code",
   "execution_count": 306,
   "id": "2a02df9f",
   "metadata": {},
   "outputs": [],
   "source": [
    "# function to test model on test set\n",
    "def test(train_set, test_set):\n",
    "    predictions = []\n",
    "    true_classes = []\n",
    "    for x in test_set:\n",
    "        predictions.append(knn(x, train_set, 5))\n",
    "        true_classes.append(x[-1])\n",
    "\n",
    "    # getting accuracy\n",
    "    accuracy = 100 - 100*np.sum(np.absolute(np.array(predictions) - np.array(true_classes)))/n\n",
    "    \n",
    "    return accuracy, predictions"
   ]
  },
  {
   "cell_type": "code",
   "execution_count": 301,
   "id": "64040abb",
   "metadata": {},
   "outputs": [
    {
     "name": "stdout",
     "output_type": "stream",
     "text": [
      "Prediction of Standard KNN : [1, 1, 1, 1, 0, 1, 0, 0, 0, 0, 0, 0, 0, 0, 0]\n",
      "Accuracy of Standard KNN : 66.66666666666666\n"
     ]
    }
   ],
   "source": [
    "# test standard knn on test set\n",
    "acc, pred = test(train_set, test_set)\n",
    "print(f\"Prediction of Standard KNN : {pred}\")\n",
    "print(f\"Accuracy of Standard KNN : {acc}\")"
   ]
  },
  {
   "cell_type": "markdown",
   "id": "fa122fd3",
   "metadata": {},
   "source": [
    "<h2> Implementing Standard KNN using Sklearn Library"
   ]
  },
  {
   "cell_type": "code",
   "execution_count": 307,
   "id": "f9251f47",
   "metadata": {},
   "outputs": [
    {
     "name": "stdout",
     "output_type": "stream",
     "text": [
      "Prediction of Standard KNN using sklearn lib : [1 1 1 1 0 1 0 0 0 0 0 0 0 0 0]\n",
      "Accuracy of Standard KNN using sklearn lib : 66.66666666666666\n"
     ]
    }
   ],
   "source": [
    "# comparing performance with knn model from sklearn library\n",
    "from sklearn.neighbors import KNeighborsClassifier\n",
    "\n",
    "train_x = train_set.T[:-1].T\n",
    "train_y = train_set.T[-1]\n",
    "\n",
    "std_knn = KNeighborsClassifier(n_neighbors = 5)\n",
    "\n",
    "std_knn.fit(train_x, train_y)\n",
    "\n",
    "test_x = test_set.T[:-1].T\n",
    "test_y = test_set.T[-1]\n",
    "pred_y = std_knn.predict(test_x)\n",
    "\n",
    "from sklearn import metrics\n",
    "acc1 = 100*metrics.accuracy_score(pred_y, test_y)\n",
    "print(f\"Prediction of Standard KNN using sklearn lib : {pred_y}\")\n",
    "print(f\"Accuracy of Standard KNN using sklearn lib : {acc}\")"
   ]
  },
  {
   "cell_type": "markdown",
   "id": "325c9d91",
   "metadata": {},
   "source": [
    "<h2> Implementing Condensed KNN from scratch </h2>"
   ]
  },
  {
   "cell_type": "code",
   "execution_count": 308,
   "id": "d3339dcd",
   "metadata": {},
   "outputs": [],
   "source": [
    "# condensed knn\n",
    "def condense(train_set, init_idx=0):\n",
    "    condensed_train = np.array([train_set[init_idx]])\n",
    "    isCondensed = False\n",
    "    y_pred = []\n",
    "    while not isCondensed:\n",
    "        isCondensed = True\n",
    "        y_pred = []\n",
    "        for t in train_set:\n",
    "            y = knn(t, condensed_train, 1)\n",
    "            y_pred.append(y)\n",
    "            if y != t[-1]:\n",
    "                isCondensed = False\n",
    "        for i,t in enumerate(train_set):\n",
    "            if y_pred[i] != t[-1]:\n",
    "                condensed_train = np.concatenate((condensed_train, [train_set[i]]))\n",
    "    return condensed_train"
   ]
  },
  {
   "cell_type": "code",
   "execution_count": 309,
   "id": "ad39d315",
   "metadata": {},
   "outputs": [
    {
     "name": "stdout",
     "output_type": "stream",
     "text": [
      "Prediction of Condensed KNN : [1, 1, 1, 1, 0, 1, 0, 0, 0, 0, 0, 0, 0, 0, 0]\n",
      "Accuracy of Condensed KNN : 66.66666666666666\n"
     ]
    }
   ],
   "source": [
    "condensed_train = condense(train_set, 0)\n",
    "acc, pred = test(condensed_train, test_set)\n",
    "print(f\"Prediction of Condensed KNN : {pred}\")\n",
    "print(f\"Accuracy of Condensed KNN : {acc}\")"
   ]
  },
  {
   "cell_type": "code",
   "execution_count": 310,
   "id": "1bc9b1b4",
   "metadata": {},
   "outputs": [
    {
     "name": "stdout",
     "output_type": "stream",
     "text": [
      "0 66.66666666666666\n",
      "1 66.66666666666666\n",
      "2 66.66666666666666\n",
      "3 66.66666666666666\n",
      "4 66.66666666666666\n",
      "5 66.66666666666666\n",
      "6 66.66666666666666\n",
      "7 66.66666666666666\n",
      "8 66.66666666666666\n",
      "9 80.0\n",
      "10 80.0\n",
      "11 66.66666666666666\n",
      "12 66.66666666666666\n",
      "13 66.66666666666666\n",
      "14 66.66666666666666\n",
      "15 93.33333333333333\n",
      "16 93.33333333333333\n",
      "17 93.33333333333333\n",
      "18 93.33333333333333\n",
      "19 66.66666666666666\n",
      "20 93.33333333333333\n",
      "21 66.66666666666666\n",
      "22 66.66666666666666\n",
      "23 66.66666666666666\n",
      "24 66.66666666666666\n",
      "25 66.66666666666666\n",
      "26 66.66666666666666\n",
      "27 66.66666666666666\n",
      "28 66.66666666666666\n",
      "29 66.66666666666666\n",
      "30 66.66666666666666\n",
      "31 66.66666666666666\n",
      "32 66.66666666666666\n",
      "33 66.66666666666666\n",
      "34 66.66666666666666\n",
      "35 66.66666666666666\n",
      "36 66.66666666666666\n",
      "37 66.66666666666666\n",
      "38 66.66666666666666\n",
      "39 66.66666666666666\n",
      "40 66.66666666666666\n",
      "41 60.0\n",
      "42 66.66666666666666\n",
      "43 66.66666666666666\n",
      "44 60.0\n",
      "45 66.66666666666666\n",
      "46 60.0\n",
      "47 66.66666666666666\n",
      "48 60.0\n",
      "49 60.0\n",
      "50 66.66666666666666\n",
      "51 66.66666666666666\n",
      "52 60.0\n",
      "53 66.66666666666666\n",
      "54 66.66666666666666\n",
      "55 66.66666666666666\n",
      "56 66.66666666666666\n"
     ]
    }
   ],
   "source": [
    "# initializing condensed knn with each training example and checking accuracy\n",
    "for i in range(train_set.shape[0]):\n",
    "    condensed_train = condense(train_set, i)\n",
    "    accuracy, predictions = test(condensed_train, test_set)\n",
    "    print(i, accuracy)"
   ]
  },
  {
   "cell_type": "code",
   "execution_count": null,
   "id": "844b567d",
   "metadata": {},
   "outputs": [],
   "source": []
  }
 ],
 "metadata": {
  "kernelspec": {
   "display_name": "Python 3 (ipykernel)",
   "language": "python",
   "name": "python3"
  },
  "language_info": {
   "codemirror_mode": {
    "name": "ipython",
    "version": 3
   },
   "file_extension": ".py",
   "mimetype": "text/x-python",
   "name": "python",
   "nbconvert_exporter": "python",
   "pygments_lexer": "ipython3",
   "version": "3.9.10"
  }
 },
 "nbformat": 4,
 "nbformat_minor": 5
}
