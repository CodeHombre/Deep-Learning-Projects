{
  "nbformat": 4,
  "nbformat_minor": 0,
  "metadata": {
    "colab": {
      "name": "CatsClassification_logistic_regression.ipynb",
      "provenance": [],
      "collapsed_sections": [],
      "authorship_tag": "ABX9TyOItesk1xb9X2X8EP16ivPt",
      "include_colab_link": true
    },
    "kernelspec": {
      "name": "python3",
      "display_name": "Python 3"
    },
    "language_info": {
      "name": "python"
    }
  },
  "cells": [
    {
      "cell_type": "markdown",
      "metadata": {
        "id": "view-in-github",
        "colab_type": "text"
      },
      "source": [
        "<a href=\"https://colab.research.google.com/github/CodeHombre/Deep-Learning-Projects/blob/main/CatsClassification_logistic_regression.ipynb\" target=\"_parent\"><img src=\"https://colab.research.google.com/assets/colab-badge.svg\" alt=\"Open In Colab\"/></a>"
      ]
    },
    {
      "cell_type": "code",
      "metadata": {
        "id": "8zA1IsXCs6Wl"
      },
      "source": [
        "import numpy as np\n",
        "import matplotlib.pyplot as plt\n",
        "import h5py\n",
        "import cv2 as cv"
      ],
      "execution_count": null,
      "outputs": []
    },
    {
      "cell_type": "code",
      "metadata": {
        "id": "i-0aRPs-tqyC"
      },
      "source": [
        "#loading the dataset\n",
        "def load_dataset():\n",
        "    with h5py.File('datasets/train_catvnoncat.h5', \"r\") as train_dataset:\n",
        "        train_set_x_orig = np.array(train_dataset[\"train_set_x\"][:])\n",
        "        train_set_y_orig = np.array(train_dataset[\"train_set_y\"][:])\n",
        "\n",
        "    with h5py.File('datasets/test_catvnoncat.h5', \"r\") as test_dataset:\n",
        "        test_set_x_orig = np.array(test_dataset[\"test_set_x\"][:])\n",
        "        test_set_y_orig = np.array(test_dataset[\"test_set_y\"][:])\n",
        "        classes = np.array(test_dataset[\"list_classes\"][:])\n",
        "\n",
        "    train_set_y_orig = train_set_y_orig.reshape((1, train_set_y_orig.shape[0]))\n",
        "    test_set_y_orig = test_set_y_orig.reshape((1, test_set_y_orig.shape[0]))\n",
        "\n",
        "    return train_set_x_orig, train_set_y_orig, test_set_x_orig, test_set_y_orig, classes\n",
        "  \n",
        "train_set_x_orig, train_set_y_orig, test_set_x_orig, test_set_y_orig, classes = load_dataset()"
      ],
      "execution_count": null,
      "outputs": []
    },
    {
      "cell_type": "code",
      "metadata": {
        "id": "bl3N3cF-3YPJ"
      },
      "source": [
        "#visualising the raw imported dataset\n",
        "print(np.shape(train_set_x_orig))\n",
        "print(np.shape(train_set_y_orig))\n",
        "print(np.shape(test_set_x_orig))\n",
        "print(np.shape(test_set_y_orig))\n",
        "\n",
        "i=97\n",
        "plt.imshow(train_set_x_orig[i])\n",
        "print(train_set_y_orig[0,i])"
      ],
      "execution_count": null,
      "outputs": []
    },
    {
      "cell_type": "code",
      "metadata": {
        "id": "h-4GrQ2y7wgD"
      },
      "source": [
        "m_train = train_set_x_orig.shape[0]\n",
        "m_test = test_set_x_orig.shape[0]\n",
        "imgSize = train_set_x_orig.shape[1]\n",
        "\n",
        "#print(m_train,m_test,imgSize)\n",
        "\n",
        "#reshaping dataset\n",
        "train_X = train_set_x_orig.reshape(m_train,-1).T\n",
        "test_X = test_set_x_orig.reshape(m_test,-1).T\n",
        "train_X = train_X/255\n",
        "test_X = test_X/255\n",
        "\n",
        "train_Y = train_set_y_orig\n",
        "test_Y = test_set_y_orig\n",
        "\n",
        "#print(train_X.shape, train_y.shape, test_X.shape, test_y.shape)"
      ],
      "execution_count": null,
      "outputs": []
    },
    {
      "cell_type": "code",
      "metadata": {
        "id": "KbzhhIBdB_Zb"
      },
      "source": [
        "#initialising parameters \n",
        "def init_params():\n",
        "  W = np.random.randn(1,train_X.shape[0])\n",
        "  b = np.random.randn(1,1)\n",
        "\n",
        "  return W,b"
      ],
      "execution_count": null,
      "outputs": []
    },
    {
      "cell_type": "code",
      "metadata": {
        "id": "tJrxfU1ZCyUs"
      },
      "source": [
        "#sigmoid activation function\n",
        "def sigmoid(z):\n",
        "  return 1/(1+np.exp(-z))\n"
      ],
      "execution_count": null,
      "outputs": []
    },
    {
      "cell_type": "code",
      "metadata": {
        "id": "q2Qt8S5FDaGL"
      },
      "source": [
        "#forward prop function\n",
        "def forward_prop(X,W,b):\n",
        "  Z = np.dot(W,X) + b\n",
        "  A = sigmoid(Z)\n",
        "  return A"
      ],
      "execution_count": null,
      "outputs": []
    },
    {
      "cell_type": "code",
      "metadata": {
        "id": "vVC0J7m7EGFr"
      },
      "source": [
        "#backward prop function\n",
        "def back_prop(A,Y,X,m):\n",
        "  dZ = A-Y\n",
        "  dW = np.dot(dZ,X.T)/m\n",
        "  db = np.sum(dZ)/m\n",
        "  return dW,db"
      ],
      "execution_count": null,
      "outputs": []
    },
    {
      "cell_type": "code",
      "metadata": {
        "id": "Bt7tXg6RGoxT"
      },
      "source": [
        "#update params\n",
        "def update_params(W,b,dW,db,alpha):\n",
        "  return W-alpha*dW, b-alpha*db"
      ],
      "execution_count": null,
      "outputs": []
    },
    {
      "cell_type": "code",
      "metadata": {
        "id": "rkzaJQ1ZIG-e"
      },
      "source": [
        "#get cost \n",
        "def get_cost(A,Y,m):\n",
        "  cost = -1/m*(np.sum(Y*np.log(A) + (1-Y)*np.log(1-A))) \n",
        "  cost = np.squeeze(cost)\n",
        "  assert(cost.shape == ())\n",
        "  return cost"
      ],
      "execution_count": null,
      "outputs": []
    },
    {
      "cell_type": "code",
      "metadata": {
        "id": "gEogmh3DDpX9"
      },
      "source": [
        "#function to optimize W and b \n",
        "def optimize(m,X,Y,n_iter,alpha,W,b):\n",
        "  for i in range(n_iter):\n",
        "    A = forward_prop(X,W,b)\n",
        "    cost = get_cost(A,Y,m) \n",
        "    dW,db = back_prop(A,Y,X,m)\n",
        "    W,b = update_params(W,b,dW,db,alpha)\n",
        "    #if(i%100==0):\n",
        "      #print(cost)\n",
        "  return W,b\n"
      ],
      "execution_count": null,
      "outputs": []
    },
    {
      "cell_type": "code",
      "metadata": {
        "id": "krFGII4xjxfn"
      },
      "source": [
        "def model(m,X,Y,iterations,learning_rate):\n",
        "  W,b = init_params()\n",
        "  W,b = optimize(m,X,Y,iterations,learning_rate,W,b)\n",
        "  return W,b"
      ],
      "execution_count": null,
      "outputs": []
    },
    {
      "cell_type": "code",
      "metadata": {
        "id": "_WeGvDWqTXmK"
      },
      "source": [
        "def get_accuracy(A,Y,m):\n",
        "  A_dash = np.zeros((A.shape[0],A.shape[1]), dtype=np.int8)\n",
        "\n",
        "  for i in range(A.shape[1]):\n",
        "    if A[0][i] > 0.5:\n",
        "      A_dash[0][i]=1\n",
        "  \n",
        "  correct = np.sum(np.abs(Y-A_dash))\n",
        "  accuracy = 100 - 1/m*(np.sum(np.abs(Y-A_dash)))*100\n",
        "  #print(A_dash)\n",
        "  return accuracy"
      ],
      "execution_count": null,
      "outputs": []
    },
    {
      "cell_type": "code",
      "metadata": {
        "colab": {
          "base_uri": "https://localhost:8080/"
        },
        "id": "yWlRJyf0hTNk",
        "outputId": "9687d80a-2a6b-40dc-9468-89a76b8a25b9"
      },
      "source": [
        "#testing for optimum learning rate\n",
        "#lrs = [0.1, 0.01, 0.2, 0.02, 0.3, 0.03, 0.4, 0.5]\n",
        "lrs = np.arange(0.01, 0.21, 0.01, dtype='float')\n",
        "print(lrs)\n",
        "test_acc = []\n",
        "for lr in lrs:\n",
        "  W,b = model(m_train, train_X, train_Y, 10000, lr)\n",
        "  A_test = forward_prop(test_X, W, b)\n",
        "  test_acc.append(get_accuracy(A_test, test_Y, m_test))\n",
        "\n",
        "print(test_acc)"
      ],
      "execution_count": null,
      "outputs": [
        {
          "output_type": "stream",
          "name": "stdout",
          "text": [
            "[0.01 0.02 0.03 0.04 0.05 0.06 0.07 0.08 0.09 0.1  0.11 0.12 0.13 0.14\n",
            " 0.15 0.16 0.17 0.18 0.19 0.2 ]\n"
          ]
        },
        {
          "output_type": "stream",
          "name": "stderr",
          "text": [
            "/usr/local/lib/python3.7/dist-packages/ipykernel_launcher.py:3: RuntimeWarning: divide by zero encountered in log\n",
            "  This is separate from the ipykernel package so we can avoid doing imports until\n",
            "/usr/local/lib/python3.7/dist-packages/ipykernel_launcher.py:3: RuntimeWarning: invalid value encountered in multiply\n",
            "  This is separate from the ipykernel package so we can avoid doing imports until\n"
          ]
        },
        {
          "output_type": "stream",
          "name": "stdout",
          "text": [
            "[74.0, 56.0, 68.0, 56.0, 52.0, 58.0, 72.0, 64.0, 70.0, 60.0, 62.0, 70.0, 60.0, 56.0, 60.0, 62.0, 72.0, 68.0, 70.0, 68.0]\n"
          ]
        }
      ]
    },
    {
      "cell_type": "code",
      "metadata": {
        "colab": {
          "base_uri": "https://localhost:8080/",
          "height": 285
        },
        "id": "rvLOX8Zz1XTx",
        "outputId": "304a7198-b184-496d-c874-bd7f05d0ee83"
      },
      "source": [
        "fig = plt.figure()\n",
        "ax = plt.axes()\n",
        "ax.plot(lrs,test_acc)\n",
        "\n",
        "max_acc = max(test_acc)\n",
        "optimum_lr = lrs[test_acc.index(max_acc)]\n",
        "print(\"Max accuracy = \" + str(max_acc) + \"at Learning rate = \" + str(optimum_lr))"
      ],
      "execution_count": null,
      "outputs": [
        {
          "output_type": "stream",
          "name": "stdout",
          "text": [
            "Max accuracy = 74.0at Learning rate = 0.01\n"
          ]
        },
        {
          "output_type": "display_data",
          "data": {
            "image/png": "[encoded data removed]",
            "text/plain": [
              "<Figure size 432x288 with 1 Axes>"
            ]
          },
          "metadata": {
            "needs_background": "light"
          }
        }
      ]
    },
    {
      "cell_type": "code",
      "metadata": {
        "colab": {
          "base_uri": "https://localhost:8080/"
        },
        "id": "b_UodV1NhHks",
        "outputId": "725c671c-762e-4b59-e3eb-b0d414b352b3"
      },
      "source": [
        "#final model \n",
        "W_f, b_f = model(m_train,train_X,train_Y, 10000, optimum_lr)"
      ],
      "execution_count": null,
      "outputs": [
        {
          "output_type": "stream",
          "name": "stderr",
          "text": [
            "/usr/local/lib/python3.7/dist-packages/ipykernel_launcher.py:3: RuntimeWarning: divide by zero encountered in log\n",
            "  This is separate from the ipykernel package so we can avoid doing imports until\n",
            "/usr/local/lib/python3.7/dist-packages/ipykernel_launcher.py:3: RuntimeWarning: invalid value encountered in multiply\n",
            "  This is separate from the ipykernel package so we can avoid doing imports until\n"
          ]
        }
      ]
    },
    {
      "cell_type": "code",
      "metadata": {
        "colab": {
          "base_uri": "https://localhost:8080/"
        },
        "id": "Dpt3iXxdgjFb",
        "outputId": "247624e6-6420-4123-f2a2-5b4ac31f7120"
      },
      "source": [
        "#train accuracy\n",
        "A_train = forward_prop(train_X, W_f, b_f)\n",
        "acc_train = get_accuracy(A_train, train_Y, m_train)\n",
        "print(\"train accuracy = \" + str(acc_train))"
      ],
      "execution_count": null,
      "outputs": [
        {
          "output_type": "stream",
          "name": "stdout",
          "text": [
            "train accuracy = 100.0\n"
          ]
        }
      ]
    },
    {
      "cell_type": "code",
      "metadata": {
        "id": "B1dJopBPVZtX"
      },
      "source": [
        "def predict(imgX):\n",
        "  a = forward_prop(imgX, W_f, b_f)\n",
        "  result = 1 if a>0.5 else 0\n",
        "  print(result) "
      ],
      "execution_count": null,
      "outputs": []
    },
    {
      "cell_type": "code",
      "metadata": {
        "id": "nKwKb72EWQV1"
      },
      "source": [
        "my_img = cv.imread(\"images/lala.png\")\n",
        "my_img = cv.resize(my_img, (64,64))\n",
        "plt.imshow(my_img)\n",
        "my_img = my_img.reshape(1,-1).T\n",
        "predict(my_img)"
      ],
      "execution_count": null,
      "outputs": []
    }
  ]
}